{
 "cells": [
  {
   "cell_type": "markdown",
   "id": "a646b87a-8b68-48e8-b384-267610fc1c98",
   "metadata": {},
   "source": [
    "# ZARR2: Join JSON refs for NetCDF3 files using MultiZarrToZarr"
   ]
  },
  {
   "cell_type": "code",
   "execution_count": 1,
   "id": "8c1c4352-d78a-4b08-afb5-901036f764ac",
   "metadata": {},
   "outputs": [
    {
     "name": "stderr",
     "output_type": "stream",
     "text": [
      "/opt/coiled/env/lib/python3.12/site-packages/dask/config.py:787: FutureWarning: Dask configuration key 'distributed.p2p.disk' has been deprecated; please use 'distributed.p2p.storage.disk' instead\n",
      "  warnings.warn(\n"
     ]
    },
    {
     "data": {
      "application/vnd.jupyter.widget-view+json": {
       "model_id": "20f651639e1543008e09f29c8af9f2a8",
       "version_major": 2,
       "version_minor": 0
      },
      "text/plain": [
       "Output()"
      ]
     },
     "metadata": {},
     "output_type": "display_data"
    },
    {
     "data": {
      "text/html": [
       "<pre style=\"white-space:pre;overflow-x:auto;line-height:normal;font-family:Menlo,'DejaVu Sans Mono',consolas,'Courier New',monospace\"></pre>\n"
      ],
      "text/plain": []
     },
     "metadata": {},
     "output_type": "display_data"
    },
    {
     "name": "stderr",
     "output_type": "stream",
     "text": [
      "Could not get token from client GCP session. This is not a concern unless you're planning to use forwarded GCP credentials on your cluster. The error was: Could not automatically determine credentials. Please set GOOGLE_APPLICATION_CREDENTIALS or explicitly create credentials and re-run the application. For more information, please see https://cloud.google.com/docs/authentication/getting-started\n"
     ]
    }
   ],
   "source": [
    "cluster_type = 'Coiled'\n",
    "\n",
    "if cluster_type == 'Coiled':\n",
    "    import coiled\n",
    "    cluster = coiled.Cluster(\n",
    "        region=\"us-east-1\",\n",
    "        arm=True,   # run on ARM to save energy & cost\n",
    "        worker_vm_types=[\"t4g.large\"],  # cheap, small ARM instances, 2cpus, 2GB RAM\n",
    "        worker_options={'nthreads':2},\n",
    "        n_workers=30,\n",
    "        wait_for_workers=False,\n",
    "        compute_purchase_option=\"spot_with_fallback\",\n",
    "        name='fvcom-cluster',   # Dask cluster name\n",
    "        software='pangeo-worker',  # Conda environment name\n",
    "        workspace='esip-lab',\n",
    "        timeout=180   # leave cluster running for 3 min in case we want to use it again\n",
    "    )\n",
    "\n",
    "    client = cluster.get_client()"
   ]
  },
  {
   "cell_type": "code",
   "execution_count": 2,
   "id": "18e90e74-4999-4b8a-9ac0-060d1e4c5e5c",
   "metadata": {},
   "outputs": [
    {
     "data": {
      "text/plain": [
       "'0.2.7'"
      ]
     },
     "execution_count": 2,
     "metadata": {},
     "output_type": "execute_result"
    }
   ],
   "source": [
    "import fsspec\n",
    "import kerchunk\n",
    "from kerchunk.combine import MultiZarrToZarr\n",
    "from fsspec.implementations.reference import LazyReferenceMapper\n",
    "from pathlib import Path\n",
    "import numpy as np\n",
    "import ujson\n",
    "kerchunk.__version__"
   ]
  },
  {
   "cell_type": "code",
   "execution_count": 3,
   "id": "a5de8362-f9c1-43f3-bc3d-3a433cb80107",
   "metadata": {},
   "outputs": [
    {
     "name": "stdout",
     "output_type": "stream",
     "text": [
      "2.18.7\n"
     ]
    }
   ],
   "source": [
    "import zarr\n",
    "print(zarr.__version__)"
   ]
  },
  {
   "cell_type": "code",
   "execution_count": 4,
   "id": "861588da-0d4c-4e07-9715-ab85b78ac5bc",
   "metadata": {},
   "outputs": [],
   "source": [
    "so = dict(anon=True)"
   ]
  },
  {
   "cell_type": "code",
   "execution_count": 5,
   "id": "5b14a815-1b98-4873-8b02-3cc625bcba59",
   "metadata": {},
   "outputs": [],
   "source": [
    "fs = fsspec.filesystem('s3', **so)"
   ]
  },
  {
   "cell_type": "code",
   "execution_count": 6,
   "id": "75080881-b0c8-4f78-971d-79182915bc6b",
   "metadata": {},
   "outputs": [],
   "source": [
    "json_dir = 's3://umassd-fvcom/gom3/hindcast/individual_jsons'"
   ]
  },
  {
   "cell_type": "code",
   "execution_count": 7,
   "id": "92de096d-e334-4930-9421-e18fb3bb1ee2",
   "metadata": {},
   "outputs": [
    {
     "name": "stdout",
     "output_type": "stream",
     "text": [
      "468\n",
      "umassd-fvcom/gom3/hindcast/individual_jsons/gom3_197801.json\n",
      "umassd-fvcom/gom3/hindcast/individual_jsons/gom3_201612.json\n"
     ]
    }
   ],
   "source": [
    "ref_list = fs.glob(f'{json_dir}/*.json')\n",
    "print(len(ref_list))\n",
    "print(ref_list[0])\n",
    "print(ref_list[-1])"
   ]
  },
  {
   "cell_type": "code",
   "execution_count": 8,
   "id": "78a80292-f37d-447c-a2a5-563a3b92f6e0",
   "metadata": {},
   "outputs": [],
   "source": [
    "import xarray as xr"
   ]
  },
  {
   "cell_type": "code",
   "execution_count": 9,
   "id": "07bd3e32-1fd4-46ac-a1e7-91e5c3463fe9",
   "metadata": {},
   "outputs": [],
   "source": [
    "drop_vars = ['Itime', 'Itime2', 'Times', 'file_date', 'iint', 'nprocs']"
   ]
  },
  {
   "cell_type": "code",
   "execution_count": 10,
   "id": "755b2dc4-97fa-44f2-88c2-67fab52a0a9a",
   "metadata": {},
   "outputs": [],
   "source": [
    "identical_dims = ['partition',\n",
    " 'x',\n",
    " 'y',\n",
    " 'lon',\n",
    " 'lat',\n",
    " 'xc',\n",
    " 'yc',\n",
    " 'lonc',\n",
    " 'latc',\n",
    " 'siglay',\n",
    " 'siglev',\n",
    " 'h',\n",
    " 'nv',\n",
    " 'nbe',\n",
    " 'ntsn',\n",
    " 'nbsn',\n",
    " 'ntve',\n",
    " 'nbve',\n",
    " 'a1u',\n",
    " 'a2u',\n",
    " 'aw0',\n",
    " 'awx',\n",
    " 'awy',\n",
    " 'art2',\n",
    " 'art1',\n",
    " 'nprocs']"
   ]
  },
  {
   "cell_type": "code",
   "execution_count": 11,
   "id": "ec41a279-dd7c-4217-a152-fc2ae57185af",
   "metadata": {},
   "outputs": [],
   "source": [
    "ref_list = [f's3://{ref}' for ref in ref_list]"
   ]
  },
  {
   "cell_type": "code",
   "execution_count": 12,
   "id": "ef9c0169-a37b-4fb3-a1b6-2072ef7ee03f",
   "metadata": {},
   "outputs": [],
   "source": [
    "from kerchunk.combine import MultiZarrToZarr, auto_dask, JustLoad"
   ]
  },
  {
   "cell_type": "code",
   "execution_count": 13,
   "id": "974fffae-b0a1-42f0-a503-ddc77cf915fe",
   "metadata": {},
   "outputs": [],
   "source": [
    "mzz_kwargs = dict(target_options=dict(anon=True),\n",
    "        concat_dims=[\"time\"],\n",
    "        preprocess=kerchunk.combine.drop(tuple(drop_vars)),\n",
    "        identical_dims=identical_dims)"
   ]
  },
  {
   "cell_type": "code",
   "execution_count": 17,
   "id": "4090fc42-435e-47d1-b20e-376bd5cf36ad",
   "metadata": {},
   "outputs": [],
   "source": [
    "n_batches = 60"
   ]
  },
  {
   "cell_type": "code",
   "execution_count": 18,
   "id": "27b5d4ca-c0b1-452e-8337-b534959fae9e",
   "metadata": {},
   "outputs": [
    {
     "name": "stdout",
     "output_type": "stream",
     "text": [
      "CPU times: user 7.07 s, sys: 1.73 s, total: 8.8 s\n",
      "Wall time: 6min 54s\n"
     ]
    }
   ],
   "source": [
    "%%time\n",
    "d = auto_dask(\n",
    "    ref_list,\n",
    "    single_driver=JustLoad,\n",
    "    single_kwargs={\"storage_options\": {\"anon\": True}},\n",
    "    mzz_kwargs=mzz_kwargs,\n",
    "    n_batches=n_batches,   # give one batch to each worker\n",
    "    remote_protocol=\"s3\",\n",
    "    remote_options={\"anon\": True}\n",
    ")"
   ]
  },
  {
   "cell_type": "code",
   "execution_count": 19,
   "id": "f8d32743-0b85-4268-879b-66b631bf9ee0",
   "metadata": {},
   "outputs": [],
   "source": [
    "fs_local = fsspec.filesystem('file')"
   ]
  },
  {
   "cell_type": "code",
   "execution_count": 20,
   "id": "5ee2ae9a-5014-4870-a60d-289f54b1a691",
   "metadata": {},
   "outputs": [],
   "source": [
    "with fs_local.open('combined.json', 'wb') as f:\n",
    "    f.write(ujson.dumps(d).encode())"
   ]
  },
  {
   "cell_type": "code",
   "execution_count": 21,
   "id": "183fd2fe-e05a-4c70-b4cf-a6f24799e152",
   "metadata": {},
   "outputs": [],
   "source": [
    "from kerchunk import df"
   ]
  },
  {
   "cell_type": "code",
   "execution_count": 22,
   "id": "c88381c5-3571-4781-9354-39b7e6a4ca8d",
   "metadata": {},
   "outputs": [],
   "source": [
    "df.refs_to_dataframe('combined.json', 'combined.parq')"
   ]
  },
  {
   "cell_type": "code",
   "execution_count": null,
   "id": "16d6cb39-87e2-4fbc-950c-39f10f489f9c",
   "metadata": {},
   "outputs": [],
   "source": [
    "fs_s3 = fsspec.filesystem('s3', profile='umassd-fvcom')"
   ]
  },
  {
   "cell_type": "code",
   "execution_count": null,
   "id": "82e9be59-eb10-4f93-8a6f-d646b86f5b33",
   "metadata": {},
   "outputs": [],
   "source": [
    "_ = fs_s3.upload('combined.parq', 's3://umassd-fvcom/gom3/hindcast/parquet/', recursive=True, )"
   ]
  }
 ],
 "metadata": {
  "kernelspec": {
   "display_name": "Python [conda env:base] *",
   "language": "python",
   "name": "conda-base-py"
  },
  "language_info": {
   "codemirror_mode": {
    "name": "ipython",
    "version": 3
   },
   "file_extension": ".py",
   "mimetype": "text/x-python",
   "name": "python",
   "nbconvert_exporter": "python",
   "pygments_lexer": "ipython3",
   "version": "3.11.9"
  }
 },
 "nbformat": 4,
 "nbformat_minor": 5
}

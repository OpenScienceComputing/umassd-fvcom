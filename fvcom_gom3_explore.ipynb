{
 "cells": [
  {
   "cell_type": "markdown",
   "id": "6c37a039-53ad-42ae-9cd4-3c39c801c9a0",
   "metadata": {},
   "source": [
    "# Explore FVCOM GOM3 Hindcast on AWS Public Data"
   ]
  },
  {
   "cell_type": "code",
   "execution_count": null,
   "id": "cd127247-42cb-4bc0-96d8-695fd306c0a7",
   "metadata": {},
   "outputs": [],
   "source": [
    "import xarray as xr\n",
    "import zarr\n",
    "import intake"
   ]
  },
  {
   "cell_type": "code",
   "execution_count": null,
   "id": "f6917a64-8aa2-429b-b7c4-3fd4c7f0e31f",
   "metadata": {},
   "outputs": [],
   "source": [
    "intake_catalog_url = 'https://umassd-fvcom.s3.amazonaws.com/gom3/hindcast/umassd-fvcom-gom3.yml'\n",
    "cat = intake.open_catalog(intake_catalog_url)"
   ]
  },
  {
   "cell_type": "code",
   "execution_count": null,
   "id": "b16e09aa-8de3-43f7-a994-982790780a95",
   "metadata": {},
   "outputs": [],
   "source": [
    "list(cat)"
   ]
  },
  {
   "cell_type": "code",
   "execution_count": null,
   "id": "7c1a47ae-9c49-431f-9b1b-84dd7f5d2161",
   "metadata": {},
   "outputs": [],
   "source": [
    "if zarr.__version__[0]=='2':\n",
    "    dataset = 'UMASSD-FVCOM-GOM3-zarr2' \n",
    "elif zarr.__version__[0]=='3':\n",
    "    dataset = 'UMASSD-FVCOM-GOM3-zarr3'"
   ]
  },
  {
   "cell_type": "code",
   "execution_count": null,
   "id": "6dab534f-a15e-42a2-a759-7a05d92b8506",
   "metadata": {},
   "outputs": [],
   "source": [
    "%%time\n",
    "ds = cat[dataset].to_dask()"
   ]
  },
  {
   "cell_type": "code",
   "execution_count": null,
   "id": "470b2071-0cda-41fb-be0c-664c9ef43a91",
   "metadata": {
    "scrolled": true
   },
   "outputs": [],
   "source": [
    "ds"
   ]
  },
  {
   "cell_type": "markdown",
   "id": "060aad96-7bec-4bf7-b45c-7a48535a67e0",
   "metadata": {},
   "source": [
    "## Visualize data on the triangular mesh"
   ]
  },
  {
   "cell_type": "code",
   "execution_count": null,
   "id": "c7f44014-d1d1-4462-b0a8-16b1a4517b0f",
   "metadata": {},
   "outputs": [],
   "source": [
    "import numpy as np\n",
    "import holoviews as hv\n",
    "import geoviews as gv\n",
    "import cartopy.crs as ccrs\n",
    "import hvplot.xarray\n",
    "import holoviews.operation.datashader as dshade\n",
    "import pandas as pd\n",
    "\n",
    "dshade.datashade.precompute = True\n",
    "hv.extension('bokeh')"
   ]
  },
  {
   "cell_type": "code",
   "execution_count": null,
   "id": "6a802e98-ec6d-4d40-af98-a5d91b791df7",
   "metadata": {},
   "outputs": [],
   "source": [
    "var_name='temp'  # variable\n",
    "level = 0  # vertical level (0 is surface, -1 is bottom)\n",
    "time = '2015-11-01 04:00'  # time in UTC"
   ]
  },
  {
   "cell_type": "code",
   "execution_count": null,
   "id": "a56f0e7c-106f-4d28-b93a-87cfa3f5aca7",
   "metadata": {},
   "outputs": [],
   "source": [
    "%%time\n",
    "values = ds[var_name].isel(siglay=0).sel(time=time, method='nearest').load()"
   ]
  },
  {
   "cell_type": "code",
   "execution_count": null,
   "id": "119230bd-1f57-4886-9cdd-8ca104d40987",
   "metadata": {},
   "outputs": [],
   "source": [
    "v = np.vstack((ds['lon'], ds['lat'], values)).T\n",
    "verts = pd.DataFrame(v, columns=['lon','lat','var'])"
   ]
  },
  {
   "cell_type": "code",
   "execution_count": null,
   "id": "31934666-c523-4df7-a8e9-4a274b799016",
   "metadata": {},
   "outputs": [],
   "source": [
    "points = gv.operation.project_points(gv.Points(verts, vdims=['var']))"
   ]
  },
  {
   "cell_type": "code",
   "execution_count": null,
   "id": "460d084f-7a32-4934-a021-56275cd38c5d",
   "metadata": {},
   "outputs": [],
   "source": [
    "tris = pd.DataFrame(ds['nv'].T.values.astype('int')-1, columns=['v0','v1','v2'])"
   ]
  },
  {
   "cell_type": "code",
   "execution_count": null,
   "id": "b31b50a4-8af2-4c53-a719-efa00ad14f62",
   "metadata": {},
   "outputs": [],
   "source": [
    "tiles = gv.tile_sources.OSM"
   ]
  },
  {
   "cell_type": "code",
   "execution_count": null,
   "id": "f15ce3b9-954a-4f5d-85be-89be7c42a854",
   "metadata": {},
   "outputs": [],
   "source": [
    "title = f'{var_name}@level {level}   time:{time}'"
   ]
  },
  {
   "cell_type": "code",
   "execution_count": null,
   "id": "3b1e15dd-565c-4a39-94e5-de8e14190c69",
   "metadata": {},
   "outputs": [],
   "source": [
    "trimesh = gv.TriMesh((tris, points), label=title)\n",
    "mesh = dshade.rasterize(trimesh).opts(\n",
    "              cmap='rainbow', colorbar=True, width=600, height=400)"
   ]
  },
  {
   "cell_type": "code",
   "execution_count": null,
   "id": "0e5a8a29-bb2d-421c-9c12-46f74b3912c0",
   "metadata": {},
   "outputs": [],
   "source": [
    "tiles * mesh"
   ]
  }
 ],
 "metadata": {
  "kernelspec": {
   "display_name": "Python [conda env:pangeo_z3]",
   "language": "python",
   "name": "conda-env-pangeo_z3-py"
  },
  "language_info": {
   "codemirror_mode": {
    "name": "ipython",
    "version": 3
   },
   "file_extension": ".py",
   "mimetype": "text/x-python",
   "name": "python",
   "nbconvert_exporter": "python",
   "pygments_lexer": "ipython3",
   "version": "3.12.11"
  },
  "widgets": {
   "application/vnd.jupyter.widget-state+json": {
    "state": {},
    "version_major": 2,
    "version_minor": 0
   }
  }
 },
 "nbformat": 4,
 "nbformat_minor": 5
}

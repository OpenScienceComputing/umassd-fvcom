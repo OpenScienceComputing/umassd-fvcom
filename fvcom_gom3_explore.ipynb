{
 "cells": [
  {
   "cell_type": "markdown",
   "id": "6c37a039-53ad-42ae-9cd4-3c39c801c9a0",
   "metadata": {},
   "source": [
    "# Explore combined FVCOM GOM3 Dataset"
   ]
  },
  {
   "cell_type": "code",
   "execution_count": null,
   "id": "cd127247-42cb-4bc0-96d8-695fd306c0a7",
   "metadata": {},
   "outputs": [],
   "source": [
    "import xarray as xr"
   ]
  },
  {
   "cell_type": "code",
   "execution_count": null,
   "id": "ccad7c34-593d-4f92-af4a-951414c08b2e",
   "metadata": {},
   "outputs": [],
   "source": [
    "url = 's3://umassd-fvcom/gom3/hindcast/parquet/combined.parq'    #  AWS Public Data"
   ]
  },
  {
   "cell_type": "code",
   "execution_count": null,
   "id": "fbad7353-ad4f-4e61-9fed-681f9f26179a",
   "metadata": {},
   "outputs": [],
   "source": [
    "so = dict(anon=True)"
   ]
  },
  {
   "cell_type": "code",
   "execution_count": null,
   "id": "aeaa1b03-936f-4e5b-865a-4cb1d0e08d7c",
   "metadata": {},
   "outputs": [],
   "source": [
    "ds = xr.open_dataset(url, engine='kerchunk', chunks={'time':1}, \n",
    "                    backend_kwargs=dict(storage_options=dict(target_options=so,\n",
    "                    remote_protocol='s3', lazy=True, remote_options=so)))"
   ]
  },
  {
   "cell_type": "code",
   "execution_count": null,
   "id": "46180e5b-e4a2-4803-968b-6aeb14d58826",
   "metadata": {},
   "outputs": [],
   "source": [
    "ds.nbytes/1e12  # TB"
   ]
  },
  {
   "cell_type": "code",
   "execution_count": null,
   "id": "f1356362-37eb-4cab-b09e-7538e76394ef",
   "metadata": {},
   "outputs": [],
   "source": [
    "ds['temp']"
   ]
  },
  {
   "cell_type": "code",
   "execution_count": null,
   "id": "50336d84-b5db-4a3c-b5d0-c8792d78e13d",
   "metadata": {},
   "outputs": [],
   "source": [
    "ds['temp'].sel(time='2017-01-01 00:00')[0,:,100].values   # Vertical distribution of Temperature at a single place and time"
   ]
  }
 ],
 "metadata": {
  "kernelspec": {
   "display_name": "global-global-pangeo",
   "language": "python",
   "name": "conda-env-global-global-pangeo-py"
  },
  "language_info": {
   "codemirror_mode": {
    "name": "ipython",
    "version": 3
   },
   "file_extension": ".py",
   "mimetype": "text/x-python",
   "name": "python",
   "nbconvert_exporter": "python",
   "pygments_lexer": "ipython3",
   "version": "3.12.9"
  }
 },
 "nbformat": 4,
 "nbformat_minor": 5
}

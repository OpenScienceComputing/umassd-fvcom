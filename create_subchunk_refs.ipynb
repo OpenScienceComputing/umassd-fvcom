{
 "cells": [
  {
   "cell_type": "markdown",
   "id": "a646b87a-8b68-48e8-b384-267610fc1c98",
   "metadata": {},
   "source": [
    "# Create subchunked refs from original refs"
   ]
  },
  {
   "cell_type": "code",
   "execution_count": null,
   "id": "09f41dc6-c575-4214-a7e1-df71b3ad3fe0",
   "metadata": {},
   "outputs": [],
   "source": [
    "import fsspec\n",
    "import xarray as xr\n",
    "import os\n",
    "import ujson\n",
    "from kerchunk.utils import subchunk, inline_array\n",
    "from pathlib import Path"
   ]
  },
  {
   "cell_type": "code",
   "execution_count": null,
   "id": "a6a55f72-757d-43e4-b861-e53559fa664f",
   "metadata": {},
   "outputs": [],
   "source": [
    "from dotenv import load_dotenv"
   ]
  },
  {
   "cell_type": "code",
   "execution_count": null,
   "id": "92cc378b-27bb-4b79-9f33-8e6cd45dae74",
   "metadata": {},
   "outputs": [],
   "source": [
    "load_dotenv('/shared/users/nebari-setup/chen_keys.env') "
   ]
  },
  {
   "cell_type": "code",
   "execution_count": null,
   "id": "85db13ba-b379-40ad-8da9-9b0eac2936e1",
   "metadata": {},
   "outputs": [],
   "source": [
    "%%time\n",
    "import os\n",
    "cluster_type = 'Gateway'\n",
    "\n",
    "if cluster_type == 'Gateway':\n",
    "    from dask_gateway import Gateway\n",
    "\n",
    "    gateway = Gateway()  # instantiate Dask gateway \n",
    "\n",
    "    # Cluster options on Nebari \n",
    "    options = gateway.cluster_options()\n",
    "    options.conda_environment='global/global-pangeo'  # comment out for Daskhub or Planetary Computer\n",
    "    options.profile = 'Small Worker'   # comment out for Daskhub or Planetary Computer\n",
    "    options.environment_vars = {'AWS_ACCESS_KEY_ID':os.environ['AWS_ACCESS_KEY_ID'],\n",
    "                                'AWS_SECRET_ACCESS_KEY':os.environ['AWS_SECRET_ACCESS_KEY']}\n",
    "    # Create a Dask Gateway cluster\n",
    "    cluster = gateway.new_cluster(options)\n",
    "\n",
    "    # Get the Dask client for the Dask Gateway cluster\n",
    "    client = cluster.get_client()\n",
    "\n",
    "    # Scale the cluster\n",
    "    cluster.adapt(minimum=4, maximum=30)"
   ]
  },
  {
   "cell_type": "code",
   "execution_count": null,
   "id": "7254b5d5-de8e-4b8b-a5d8-7d636548cfeb",
   "metadata": {},
   "outputs": [],
   "source": [
    "so = dict(anon=False, skip_instance_cache=True, use_listings_cache=False)"
   ]
  },
  {
   "cell_type": "code",
   "execution_count": null,
   "id": "5b14a815-1b98-4873-8b02-3cc625bcba59",
   "metadata": {},
   "outputs": [],
   "source": [
    "fs = fsspec.filesystem('s3', **so)"
   ]
  },
  {
   "cell_type": "code",
   "execution_count": null,
   "id": "a32c61a5-22b0-41cc-a6f1-f43e346c0c26",
   "metadata": {},
   "outputs": [],
   "source": [
    "json_dir = 's3://umassd-fvcom/gom3/hindcast/individual_jsons'"
   ]
  },
  {
   "cell_type": "code",
   "execution_count": null,
   "id": "988b89d4-ee38-4dc0-905e-a2c2d6108cfc",
   "metadata": {},
   "outputs": [],
   "source": [
    "ref_list = fs.glob(f'{json_dir}/*.json')\n",
    "print(len(ref_list))\n",
    "print(ref_list[0])\n",
    "print(ref_list[-1])"
   ]
  },
  {
   "cell_type": "code",
   "execution_count": null,
   "id": "3803b8d5-8916-431b-9f6e-002a016dd88a",
   "metadata": {},
   "outputs": [],
   "source": [
    "# d0 = json.load(fs.open(ref_list[0]))"
   ]
  },
  {
   "cell_type": "code",
   "execution_count": null,
   "id": "d901b519-8138-4e4b-8cac-fdbb053e6b10",
   "metadata": {},
   "outputs": [],
   "source": [
    "#ds = xr.open_dataset(d0, engine=\"kerchunk\", chunks={},\n",
    "#            drop_variables= ['Itime', 'Itime2', 'Times', 'file_date', 'iint', 'nprocs'],\n",
    "#            storage_options=dict(remote_protocol='s3', remote_options=so))"
   ]
  },
  {
   "cell_type": "code",
   "execution_count": null,
   "id": "bad09faf-ad93-48c1-9833-838571f7763e",
   "metadata": {},
   "outputs": [],
   "source": [
    "#siglev_vars = []\n",
    "#for v in ds.variables.keys():\n",
    "#    if 'siglev' in ds[v].dims:\n",
    "#        siglev_vars.append(v)"
   ]
  },
  {
   "cell_type": "code",
   "execution_count": null,
   "id": "4c049451-2806-44de-a7d1-69d1d3719702",
   "metadata": {},
   "outputs": [],
   "source": [
    "#siglay_vars = []\n",
    "#for v in ds.variables.keys():\n",
    "#    if 'siglay' in ds[v].dims:\n",
    "#        siglay_vars.append(v)"
   ]
  },
  {
   "cell_type": "code",
   "execution_count": null,
   "id": "d0d41067-8014-4bdf-a705-eef486d40d27",
   "metadata": {},
   "outputs": [],
   "source": [
    "#nlev = len(ds['siglev'])\n",
    "#nlay = len(ds['siglay'])"
   ]
  },
  {
   "cell_type": "code",
   "execution_count": null,
   "id": "42d508c8-089a-4cd8-a72a-eb5e22a9164d",
   "metadata": {},
   "outputs": [],
   "source": [
    "nlev = 46\n",
    "nlay = 45\n",
    "siglev_vars = ['kh', 'km', 'kq', 'l', 'omega', 'q2', 'q2l', 'siglev']\n",
    "siglay_vars = ['salinity', 'siglay', 'temp', 'u', 'v', 'ww']"
   ]
  },
  {
   "cell_type": "code",
   "execution_count": null,
   "id": "03f95801-48be-41a4-ae19-1ac2a60be0cf",
   "metadata": {},
   "outputs": [],
   "source": [
    "def subchunk_ref(ref):\n",
    "    d0 = ujson.load(fs.open(ref))\n",
    "    for v in siglev_vars:\n",
    "        d0 = subchunk(store=d0, variable=v, factor=nlev)\n",
    "    for v in siglay_vars:\n",
    "        d0 = subchunk(store=d0, variable=v, factor=nlay)\n",
    "    outf = f's3://umassd-fvcom/gom3/hindcast/subchunk_jsons/{Path(ref).stem}.json'\n",
    "    with fs.open(outf, 'wb') as f:\n",
    "        f.write(ujson.dumps(d0).encode());"
   ]
  },
  {
   "cell_type": "code",
   "execution_count": null,
   "id": "1da435bc-1774-47b2-b83c-7f118911a82c",
   "metadata": {},
   "outputs": [],
   "source": [
    "%%time\n",
    "import dask\n",
    "_ = dask.compute(*[dask.delayed(subchunk_ref)(f) for f in ref_list], retries=10)"
   ]
  },
  {
   "cell_type": "code",
   "execution_count": null,
   "id": "5ca24026-a3a9-411d-8a3e-24af64e71e5a",
   "metadata": {},
   "outputs": [],
   "source": [
    "%%time\n",
    "subchunk_ref(ref_list[0])"
   ]
  },
  {
   "cell_type": "code",
   "execution_count": null,
   "id": "322af2ff-dce1-46f7-aca4-038a3640898e",
   "metadata": {},
   "outputs": [],
   "source": [
    "ds = xr.open_dataset(d0, engine=\"kerchunk\", chunks={},\n",
    "            drop_variables= ['Itime', 'Itime2', 'Times', 'file_date', 'iint', 'nprocs'],\n",
    "            storage_options=dict(remote_protocol='s3', remote_options=so))"
   ]
  },
  {
   "cell_type": "code",
   "execution_count": null,
   "id": "c6d8b980-d6c1-416b-88c3-c8a2e0380e7d",
   "metadata": {},
   "outputs": [],
   "source": [
    "%%time\n",
    "da = ds['temp'][-100:,-1,:].load()"
   ]
  },
  {
   "cell_type": "code",
   "execution_count": null,
   "id": "7455d971-f62b-4b15-9e4d-efa1c0c70cec",
   "metadata": {},
   "outputs": [],
   "source": [
    "client.close()"
   ]
  },
  {
   "cell_type": "code",
   "execution_count": null,
   "id": "247c6241-4bab-4523-bd81-10d5b87e1f84",
   "metadata": {},
   "outputs": [],
   "source": [
    "cluster.shutdown()"
   ]
  }
 ],
 "metadata": {
  "kernelspec": {
   "display_name": "global-global-pangeo",
   "language": "python",
   "name": "conda-env-global-global-pangeo-py"
  },
  "language_info": {
   "codemirror_mode": {
    "name": "ipython",
    "version": 3
   },
   "file_extension": ".py",
   "mimetype": "text/x-python",
   "name": "python",
   "nbconvert_exporter": "python",
   "pygments_lexer": "ipython3",
   "version": "3.12.9"
  }
 },
 "nbformat": 4,
 "nbformat_minor": 5
}
